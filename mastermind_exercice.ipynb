{
  "metadata": {
    "kernelspec": {
      "name": "python",
      "display_name": "Python (Pyodide)",
      "language": "python"
    },
    "language_info": {
      "codemirror_mode": {
        "name": "python",
        "version": 3
      },
      "file_extension": ".py",
      "mimetype": "text/x-python",
      "name": "python",
      "nbconvert_exporter": "python",
      "pygments_lexer": "ipython3",
      "version": "3.8"
    }
  },
  "nbformat_minor": 4,
  "nbformat": 4,
  "cells": [
    {
      "cell_type": "code",
      "source": "def evaluate_guess(guess, model):\n    \n    well_placed = 0\n    misplaced = 0\n\n    model_count = {}\n    guess_count = {}\n\n    # First pass: count well placed pegs\n    for i in range(len(model)):\n        if guess[i] == model[i]:\n            well_placed += 1\n        else:\n            # Count colors in model and guess for misplaced calculation\n            model_count[model[i]] = model_count.get(model[i], 0) + 1\n            guess_count[guess[i]] = guess_count.get(guess[i], 0) + 1\n\n    # Second pass: count misplaced pegs\n    for color in guess_count:\n        if color in model_count:\n            misplaced += min(model_count[color], guess_count[color])\n\n    return well_placed, misplaced\n\n# Model and next guess\nmodel = [\"R\", \"G\", \"B\", \"Y\"]\nnext_guess = [\"G\", \"R\", \"B\", \"B\"]\n\n# Evaluate the next guess\nwell_placed, misplaced = evaluate_guess(next_guess, model)\n\n# Print the results\nprint(f\"Well placed: {well_placed}, Misplaced: {misplaced}\")",
      "metadata": {
        "trusted": true
      },
      "outputs": [],
      "execution_count": null
    },
    {
      "cell_type": "code",
      "source": "",
      "metadata": {
        "trusted": true
      },
      "outputs": [],
      "execution_count": null
    }
  ]
}